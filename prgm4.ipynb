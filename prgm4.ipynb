{
  "nbformat": 4,
  "nbformat_minor": 0,
  "metadata": {
    "colab": {
      "name": "prgm4.ipynb",
      "provenance": [],
      "authorship_tag": "ABX9TyMNXGzWzg0H9YGASJlbYZbN",
      "include_colab_link": true
    },
    "kernelspec": {
      "name": "python3",
      "display_name": "Python 3"
    },
    "language_info": {
      "name": "python"
    }
  },
  "cells": [
    {
      "cell_type": "markdown",
      "metadata": {
        "id": "view-in-github",
        "colab_type": "text"
      },
      "source": [
        "<a href=\"https://colab.research.google.com/github/AnjaliKrishna123/DataScience/blob/main/prgm4.ipynb\" target=\"_parent\"><img src=\"https://colab.research.google.com/assets/colab-badge.svg\" alt=\"Open In Colab\"/></a>"
      ]
    },
    {
      "cell_type": "code",
      "metadata": {
        "id": "uCPB8yffYI3_"
      },
      "source": [
        "import pandas as pd\n",
        "import numpy as np\n",
        "import matplotlib.pyplot as plt\n",
        "import seaborn as sns\n",
        "from scipy import stats\n"
      ],
      "execution_count": 3,
      "outputs": []
    },
    {
      "cell_type": "code",
      "metadata": {
        "colab": {
          "base_uri": "https://localhost:8080/"
        },
        "id": "7pnkLtSqY-08",
        "outputId": "3e591a37-2538-4369-9aec-fcd7c58cb353"
      },
      "source": [
        "#printing first row with head\n",
        "movies=pd.read_csv(\"IMDb movies.csv\")\n",
        "print(movies.head(5))"
      ],
      "execution_count": 7,
      "outputs": [
        {
          "output_type": "stream",
          "name": "stdout",
          "text": [
            "  imdb_title_id  ... reviews_from_critics\n",
            "0     tt0000009  ...                  2.0\n",
            "1     tt0000574  ...                  7.0\n",
            "2     tt0001892  ...                  2.0\n",
            "3     tt0002101  ...                  3.0\n",
            "4     tt0002130  ...                 14.0\n",
            "\n",
            "[5 rows x 22 columns]\n"
          ]
        },
        {
          "output_type": "stream",
          "name": "stderr",
          "text": [
            "/usr/local/lib/python3.7/dist-packages/IPython/core/interactiveshell.py:2718: DtypeWarning: Columns (3) have mixed types.Specify dtype option on import or set low_memory=False.\n",
            "  interactivity=interactivity, compiler=compiler, result=result)\n"
          ]
        }
      ]
    },
    {
      "cell_type": "code",
      "metadata": {
        "colab": {
          "base_uri": "https://localhost:8080/"
        },
        "id": "-t6zyik4dWB7",
        "outputId": "f25bc234-6ba4-48a3-9cbb-ed4e69bdf956"
      },
      "source": [
        "#descriptive Statistics\n",
        "print(movies.describe())"
      ],
      "execution_count": 8,
      "outputs": [
        {
          "output_type": "stream",
          "name": "stdout",
          "text": [
            "           duration      avg_vote  ...  reviews_from_users  reviews_from_critics\n",
            "count  85855.000000  85855.000000  ...        78258.000000          74058.000000\n",
            "mean     100.351418      5.898656  ...           46.040826             27.479989\n",
            "std       22.553848      1.234987  ...          178.511411             58.339158\n",
            "min       41.000000      1.000000  ...            1.000000              1.000000\n",
            "25%       88.000000      5.200000  ...            4.000000              3.000000\n",
            "50%       96.000000      6.100000  ...            9.000000              8.000000\n",
            "75%      108.000000      6.800000  ...           27.000000             23.000000\n",
            "max      808.000000      9.900000  ...        10472.000000            999.000000\n",
            "\n",
            "[8 rows x 6 columns]\n"
          ]
        }
      ]
    },
    {
      "cell_type": "code",
      "metadata": {
        "colab": {
          "base_uri": "https://localhost:8080/"
        },
        "id": "2Ubkby63dWDX",
        "outputId": "c889b44f-6a4b-4e28-8a31-8a03a5781020"
      },
      "source": [
        "#check the column names\n",
        "print(\"column names:%s\"%movies.columns.values)"
      ],
      "execution_count": 10,
      "outputs": [
        {
          "output_type": "stream",
          "name": "stdout",
          "text": [
            "column names:['imdb_title_id' 'title' 'original_title' 'year' 'date_published' 'genre'\n",
            " 'duration' 'country' 'language' 'director' 'writer' 'production_company'\n",
            " 'actors' 'description' 'avg_vote' 'votes' 'budget' 'usa_gross_income'\n",
            " 'worlwide_gross_income' 'metascore' 'reviews_from_users'\n",
            " 'reviews_from_critics']\n"
          ]
        }
      ]
    },
    {
      "cell_type": "code",
      "metadata": {
        "colab": {
          "base_uri": "https://localhost:8080/"
        },
        "id": "kCYgmkkdgNBh",
        "outputId": "19277819-d7e3-497a-c156-479462a6b79c"
      },
      "source": [
        "#check null data\n",
        "print(\"NULL VALUES:\\n\")\n",
        "print(movies.isna())\n",
        "print(movies.isna().sum())\n",
        "print(\"null values %s\"%movies.isnull().values.any())\n",
        "print(\"Total null values %d\"%movies.isna().sum().sum())\n",
        "print(movies.describe())"
      ],
      "execution_count": 19,
      "outputs": [
        {
          "output_type": "stream",
          "name": "stdout",
          "text": [
            "NULL VALUES:\n",
            "\n",
            "       imdb_title_id  title  ...  reviews_from_users  reviews_from_critics\n",
            "0              False  False  ...               False                 False\n",
            "1              False  False  ...               False                 False\n",
            "2              False  False  ...               False                 False\n",
            "3              False  False  ...               False                 False\n",
            "4              False  False  ...               False                 False\n",
            "...              ...    ...  ...                 ...                   ...\n",
            "85850          False  False  ...                True                 False\n",
            "85851          False  False  ...               False                 False\n",
            "85852          False  False  ...                True                  True\n",
            "85853          False  False  ...                True                  True\n",
            "85854          False  False  ...                True                 False\n",
            "\n",
            "[85855 rows x 22 columns]\n",
            "imdb_title_id                0\n",
            "title                        0\n",
            "original_title               0\n",
            "year                         0\n",
            "date_published               0\n",
            "genre                        0\n",
            "duration                     0\n",
            "country                     64\n",
            "language                   833\n",
            "director                    87\n",
            "writer                    1572\n",
            "production_company        4455\n",
            "actors                      69\n",
            "description               2115\n",
            "avg_vote                     0\n",
            "votes                        0\n",
            "budget                   62145\n",
            "usa_gross_income         70529\n",
            "worlwide_gross_income    54839\n",
            "metascore                72550\n",
            "reviews_from_users        7597\n",
            "reviews_from_critics     11797\n",
            "dtype: int64\n",
            "null values True\n",
            "Total null values 288652\n",
            "           duration      avg_vote  ...  reviews_from_users  reviews_from_critics\n",
            "count  85855.000000  85855.000000  ...        78258.000000          74058.000000\n",
            "mean     100.351418      5.898656  ...           46.040826             27.479989\n",
            "std       22.553848      1.234987  ...          178.511411             58.339158\n",
            "min       41.000000      1.000000  ...            1.000000              1.000000\n",
            "25%       88.000000      5.200000  ...            4.000000              3.000000\n",
            "50%       96.000000      6.100000  ...            9.000000              8.000000\n",
            "75%      108.000000      6.800000  ...           27.000000             23.000000\n",
            "max      808.000000      9.900000  ...        10472.000000            999.000000\n",
            "\n",
            "[8 rows x 6 columns]\n"
          ]
        }
      ]
    },
    {
      "cell_type": "code",
      "metadata": {
        "colab": {
          "base_uri": "https://localhost:8080/"
        },
        "id": "pTzX9UMgsOM8",
        "outputId": "352fdf9e-b376-46a5-a0cd-7d32d1f31592"
      },
      "source": [
        "#shapes\n",
        "print(movies.shape)\n",
        "print(\"shape before :\", movies.shape)\n",
        "movies_df_num = movies.select_dtypes(exclude=['object'])\n",
        "print(\"shape after excluding object columns: \", movies_df_num.shape)\n"
      ],
      "execution_count": 40,
      "outputs": [
        {
          "output_type": "stream",
          "name": "stdout",
          "text": [
            "(6616, 22)\n",
            "shape before : (6616, 22)\n",
            "shape after excluding object columns:  (6616, 6)\n"
          ]
        }
      ]
    },
    {
      "cell_type": "code",
      "metadata": {
        "colab": {
          "base_uri": "https://localhost:8080/"
        },
        "id": "dmbQ7eIbtkVs",
        "outputId": "9fe505d0-29ed-49a0-d729-2d1f7124d355"
      },
      "source": [
        "#duplicate rows\n",
        "duplicate_rows_df = movies[movies.duplicated()]\n",
        "print(\"number of duplicate rows: \",duplicate_rows_df.shape)"
      ],
      "execution_count": 22,
      "outputs": [
        {
          "output_type": "stream",
          "name": "stdout",
          "text": [
            "number of duplicate rows:  (0, 22)\n"
          ]
        }
      ]
    },
    {
      "cell_type": "code",
      "metadata": {
        "colab": {
          "base_uri": "https://localhost:8080/",
          "height": 322
        },
        "id": "ugaPUlMpt2EX",
        "outputId": "ef2e2516-0c77-475e-e822-00e1a5845318"
      },
      "source": [
        "print(len(movies.movie_IMDb_link.unique()))"
      ],
      "execution_count": 28,
      "outputs": [
        {
          "output_type": "error",
          "ename": "AttributeError",
          "evalue": "ignored",
          "traceback": [
            "\u001b[0;31m---------------------------------------------------------------------------\u001b[0m",
            "\u001b[0;31mAttributeError\u001b[0m                            Traceback (most recent call last)",
            "\u001b[0;32m<ipython-input-28-a15c7ad7d5cf>\u001b[0m in \u001b[0;36m<module>\u001b[0;34m()\u001b[0m\n\u001b[0;32m----> 1\u001b[0;31m \u001b[0mprint\u001b[0m\u001b[0;34m(\u001b[0m\u001b[0mlen\u001b[0m\u001b[0;34m(\u001b[0m\u001b[0mmovies\u001b[0m\u001b[0;34m.\u001b[0m\u001b[0mmovie_IMDb_link\u001b[0m\u001b[0;34m.\u001b[0m\u001b[0munique\u001b[0m\u001b[0;34m(\u001b[0m\u001b[0;34m)\u001b[0m\u001b[0;34m)\u001b[0m\u001b[0;34m)\u001b[0m\u001b[0;34m\u001b[0m\u001b[0;34m\u001b[0m\u001b[0m\n\u001b[0m",
            "\u001b[0;32m/usr/local/lib/python3.7/dist-packages/pandas/core/generic.py\u001b[0m in \u001b[0;36m__getattr__\u001b[0;34m(self, name)\u001b[0m\n\u001b[1;32m   5139\u001b[0m             \u001b[0;32mif\u001b[0m \u001b[0mself\u001b[0m\u001b[0;34m.\u001b[0m\u001b[0m_info_axis\u001b[0m\u001b[0;34m.\u001b[0m\u001b[0m_can_hold_identifiers_and_holds_name\u001b[0m\u001b[0;34m(\u001b[0m\u001b[0mname\u001b[0m\u001b[0;34m)\u001b[0m\u001b[0;34m:\u001b[0m\u001b[0;34m\u001b[0m\u001b[0;34m\u001b[0m\u001b[0m\n\u001b[1;32m   5140\u001b[0m                 \u001b[0;32mreturn\u001b[0m \u001b[0mself\u001b[0m\u001b[0;34m[\u001b[0m\u001b[0mname\u001b[0m\u001b[0;34m]\u001b[0m\u001b[0;34m\u001b[0m\u001b[0;34m\u001b[0m\u001b[0m\n\u001b[0;32m-> 5141\u001b[0;31m             \u001b[0;32mreturn\u001b[0m \u001b[0mobject\u001b[0m\u001b[0;34m.\u001b[0m\u001b[0m__getattribute__\u001b[0m\u001b[0;34m(\u001b[0m\u001b[0mself\u001b[0m\u001b[0;34m,\u001b[0m \u001b[0mname\u001b[0m\u001b[0;34m)\u001b[0m\u001b[0;34m\u001b[0m\u001b[0;34m\u001b[0m\u001b[0m\n\u001b[0m\u001b[1;32m   5142\u001b[0m \u001b[0;34m\u001b[0m\u001b[0m\n\u001b[1;32m   5143\u001b[0m     \u001b[0;32mdef\u001b[0m \u001b[0m__setattr__\u001b[0m\u001b[0;34m(\u001b[0m\u001b[0mself\u001b[0m\u001b[0;34m,\u001b[0m \u001b[0mname\u001b[0m\u001b[0;34m:\u001b[0m \u001b[0mstr\u001b[0m\u001b[0;34m,\u001b[0m \u001b[0mvalue\u001b[0m\u001b[0;34m)\u001b[0m \u001b[0;34m->\u001b[0m \u001b[0;32mNone\u001b[0m\u001b[0;34m:\u001b[0m\u001b[0;34m\u001b[0m\u001b[0;34m\u001b[0m\u001b[0m\n",
            "\u001b[0;31mAttributeError\u001b[0m: 'DataFrame' object has no attribute 'movie_IMDb_link'"
          ]
        }
      ]
    },
    {
      "cell_type": "code",
      "metadata": {
        "colab": {
          "base_uri": "https://localhost:8080/"
        },
        "id": "Ccc2rgz9wTNx",
        "outputId": "887db7eb-c169-48bb-a6ae-f92fc95833cd"
      },
      "source": [
        "#clean the dataset by droping the na values\n",
        "clean_movies=movies.dropna(how='any')\n",
        "movies=movies.dropna(how='any')\n",
        "print(clean_movies)"
      ],
      "execution_count": 36,
      "outputs": [
        {
          "output_type": "stream",
          "name": "stdout",
          "text": [
            "      imdb_title_id  ... reviews_from_critics\n",
            "506       tt0017136  ...                208.0\n",
            "1048      tt0021749  ...                122.0\n",
            "2454      tt0027977  ...                115.0\n",
            "2795      tt0029453  ...                 55.0\n",
            "2827      tt0029583  ...                173.0\n",
            "...             ...  ...                  ...\n",
            "85266     tt9208444  ...                 17.0\n",
            "85274     tt9214832  ...                188.0\n",
            "85397     tt9354944  ...                 42.0\n",
            "85460     tt9426210  ...                110.0\n",
            "85740     tt9779516  ...                 52.0\n",
            "\n",
            "[6616 rows x 22 columns]\n"
          ]
        }
      ]
    }
  ]
}
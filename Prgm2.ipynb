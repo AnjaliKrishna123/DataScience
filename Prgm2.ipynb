{
  "nbformat": 4,
  "nbformat_minor": 0,
  "metadata": {
    "colab": {
      "name": "Prgm2.ipynb",
      "provenance": [],
      "collapsed_sections": [],
      "authorship_tag": "ABX9TyNhWhhuUMxg4cbFEJbed1vp",
      "include_colab_link": true
    },
    "kernelspec": {
      "name": "python3",
      "display_name": "Python 3"
    },
    "language_info": {
      "name": "python"
    }
  },
  "cells": [
    {
      "cell_type": "markdown",
      "metadata": {
        "id": "view-in-github",
        "colab_type": "text"
      },
      "source": [
        "<a href=\"https://colab.research.google.com/github/AnjaliKrishna123/DataScience/blob/main/Prgm2.ipynb\" target=\"_parent\"><img src=\"https://colab.research.google.com/assets/colab-badge.svg\" alt=\"Open In Colab\"/></a>"
      ]
    },
    {
      "cell_type": "code",
      "metadata": {
        "colab": {
          "base_uri": "https://localhost:8080/"
        },
        "id": "-bS4WGCZ6_JH",
        "outputId": "6ee68833-9873-4de5-89b9-fbd64c032cd2"
      },
      "source": [
        "import numpy as np\n",
        "from timeit import Timer\n",
        " \n",
        "\n",
        "length = 100000\n",
        "vector1 = np.random.randint(1000, size=length)\n",
        "vector2 = np.random.randint(1000, size=length)\n",
        " \n",
        "\n",
        "def dotproduct_forloop():\n",
        "  dot = 0.0\n",
        "  for i in range(length):\n",
        "    dot += vector1[i] * vector2[i]\n",
        " \n",
        "\n",
        "def dotproduct_vectorize():\n",
        "  dot = np.dot(vector1, vector2)\n",
        "   \n",
        " \n",
        "\n",
        "time_forloop = Timer(dotproduct_forloop).timeit(1)\n",
        "time_vectorize = Timer(dotproduct_vectorize).timeit(1)\n",
        " \n",
        "print(\"Finding dot product takes %0.9f units using for loop\"%time_forloop)\n",
        "print(\"Finding dot product takes %0.9f units using vectorization\"%time_vectorize)"
      ],
      "execution_count": 2,
      "outputs": [
        {
          "output_type": "stream",
          "name": "stdout",
          "text": [
            "Finding dot product takes 0.063320963 units using for loop\n",
            "Finding dot product takes 0.000216588 units using vectorization\n"
          ]
        }
      ]
    },
    {
      "cell_type": "code",
      "metadata": {
        "colab": {
          "base_uri": "https://localhost:8080/"
        },
        "id": "SJoHRhH6Gkup",
        "outputId": "bf88ebac-e45e-4fce-d864-734029829df7"
      },
      "source": [
        "import numpy as np\n",
        "from timeit import Timer\n",
        "\n",
        "array = np.random.randint(1000, size=10**5)\n",
        " \n",
        "def sum_using_forloop():\n",
        "  sum_array=0\n",
        "  for element in array:\n",
        "    sum_array += element\n",
        " \n",
        "def sum_using_builtin_method():\n",
        "  sum_array = sum(array)\n",
        " \n",
        "def sum_using_numpy():\n",
        "  sum_array = np.sum(array)\n",
        " \n",
        "time_forloop = Timer(sum_using_forloop).timeit(1)\n",
        "time_builtin = Timer(sum_using_builtin_method).timeit(1)\n",
        "time_numpy = Timer(sum_using_numpy).timeit(1)\n",
        " \n",
        "print(\"Summing elements takes %0.9f units using for loop\"%time_forloop)\n",
        "print(\"Summing elements takes %0.9f units using builtin method\"%time_builtin)\n",
        "print(\"Summing elements takes %0.9f units using numpy\"%time_numpy)\n",
        " \n",
        "print()"
      ],
      "execution_count": 4,
      "outputs": [
        {
          "output_type": "stream",
          "name": "stdout",
          "text": [
            "Summing elements takes 0.025508492 units using for loop\n",
            "Summing elements takes 0.018971593 units using builtin method\n",
            "Summing elements takes 0.000223596 units using numpy\n",
            "\n"
          ]
        }
      ]
    },
    {
      "cell_type": "code",
      "metadata": {
        "colab": {
          "base_uri": "https://localhost:8080/"
        },
        "id": "NaIPql2uG2d9",
        "outputId": "405cea5c-b209-4e2e-c601-3cdd72d3944b"
      },
      "source": [
        "import numpy as np\n",
        "from timeit import Timer\n",
        " \n",
        "\n",
        "length1 = 1000\n",
        "length2 = 500\n",
        "vector1 = np.random.randint(1000, size=length1)\n",
        "vector2 = np.random.randint(1000, size=length2)\n",
        " \n",
        "\n",
        "def outerproduct_forloop():\n",
        "  outer_product = np.zeros((length1, length2), dtype='int')\n",
        "  for i in range(length1):\n",
        "    for j in range(length2):\n",
        "      outer_product[i, j] = vector1[i] * vector2[j]\n",
        " \n",
        "\n",
        "def outerproduct_vectorize():\n",
        "  outer_product = np.outer(vector1, vector2)\n",
        "   \n",
        "\n",
        "time_forloop = Timer(outerproduct_forloop).timeit(1)\n",
        "time_vectorize = Timer(outerproduct_vectorize).timeit(1)\n",
        " \n",
        "print(\"Finding outer product takes %0.9f units using for loop\"%time_forloop)\n",
        "print(\"Finding outer product takes %0.9f units using vectorization\"%time_vectorize)"
      ],
      "execution_count": 5,
      "outputs": [
        {
          "output_type": "stream",
          "name": "stdout",
          "text": [
            "Finding outer product takes 0.273953060 units using for loop\n",
            "Finding outer product takes 0.001325273 units using vectorization\n"
          ]
        }
      ]
    },
    {
      "cell_type": "code",
      "metadata": {
        "colab": {
          "base_uri": "https://localhost:8080/"
        },
        "id": "rqRG61MZH1mo",
        "outputId": "3cfb6fbe-67c4-4e4c-f3bf-4ca32be084bb"
      },
      "source": [
        "import numpy as np\n",
        "from timeit import Timer\n",
        " \n",
        "\n",
        "n = 500\n",
        "m = 700\n",
        "matrix1 = np.random.randint(1000, size=(n, m))\n",
        "matrix2 = np.random.randint(1000, size=(n, m))\n",
        " \n",
        "\n",
        "def multiplication_forloop():\n",
        "  product = np.zeros((n, m), dtype='int')\n",
        "  for i in range(n):\n",
        "    for j in range(m):\n",
        "      product[i, j] = matrix1[i, j] * matrix2[i, j]\n",
        " \n",
        "\n",
        "def multiplication_vectorize():\n",
        "  product = matrix1 * matrix2\n",
        "\n",
        "time_forloop = Timer(multiplication_forloop).timeit(1)\n",
        "time_vectorize = Timer(multiplication_vectorize).timeit(1)\n",
        " \n",
        "print(\"Element Wise Multiplication takes %0.9f units using for loop\"%time_forloop)\n",
        "print(\"Element Wise Multiplication takes %0.9f units using vectorization\"%time_vectorize)"
      ],
      "execution_count": 6,
      "outputs": [
        {
          "output_type": "stream",
          "name": "stdout",
          "text": [
            "Element Wise Multiplication takes 0.226665605 units using for loop\n",
            "Element Wise Multiplication takes 0.001136403 units using vectorization\n"
          ]
        }
      ]
    }
  ]
}
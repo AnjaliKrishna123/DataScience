{
  "nbformat": 4,
  "nbformat_minor": 0,
  "metadata": {
    "colab": {
      "name": "Prgm2.ipynb",
      "provenance": [],
      "authorship_tag": "ABX9TyODk+Z005AODmG/yqlEwXBW",
      "include_colab_link": true
    },
    "kernelspec": {
      "name": "python3",
      "display_name": "Python 3"
    },
    "language_info": {
      "name": "python"
    }
  },
  "cells": [
    {
      "cell_type": "markdown",
      "metadata": {
        "id": "view-in-github",
        "colab_type": "text"
      },
      "source": [
        "<a href=\"https://colab.research.google.com/github/AnjaliKrishna123/DataScience/blob/main/Prgm2.ipynb\" target=\"_parent\"><img src=\"https://colab.research.google.com/assets/colab-badge.svg\" alt=\"Open In Colab\"/></a>"
      ]
    },
    {
      "cell_type": "code",
      "metadata": {
        "colab": {
          "base_uri": "https://localhost:8080/"
        },
        "id": "-bS4WGCZ6_JH",
        "outputId": "a6b2d643-fe50-45ba-b1e7-57a82326b03d"
      },
      "source": [
        "# Dot product\n",
        "import time\n",
        "import numpy\n",
        "import array\n",
        "  \n",
        "# 8 bytes size int\n",
        "a = array.array('q')\n",
        "for i in range(100000):\n",
        "    a.append(i);\n",
        "  \n",
        "b = array.array('q')\n",
        "for i in range(100000, 200000):\n",
        "    b.append(i)\n",
        "  \n",
        "# classic dot product of vectors implementation \n",
        "tic = time.process_time()\n",
        "dot = 0.0;\n",
        "  \n",
        "for i in range(len(a)):\n",
        "      dot += a[i] * b[i]\n",
        "  \n",
        "toc = time.process_time()\n",
        "  \n",
        "print(\"dot_product = \"+ str(dot));\n",
        "print(\"Computation time = \" + str(1000*(toc - tic )) + \"ms\")"
      ],
      "execution_count": 1,
      "outputs": [
        {
          "output_type": "stream",
          "name": "stdout",
          "text": [
            "dot_product = 833323333350000.0\n",
            "Computation time = 33.798206000000164ms\n"
          ]
        }
      ]
    }
  ]
}